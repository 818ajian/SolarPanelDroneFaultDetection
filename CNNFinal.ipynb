{
 "cells": [
  {
   "cell_type": "code",
   "execution_count": 2,
   "metadata": {},
   "outputs": [],
   "source": [
    "from keras.models import Sequential\n",
    "from keras_preprocessing.image import ImageDataGenerator\n",
    "from keras.layers import Dense, Activation, Flatten, Dropout, BatchNormalization\n",
    "from keras.layers import Conv2D, MaxPooling2D\n",
    "from keras import regularizers, optimizers\n",
    "import pandas as pd\n",
    "import numpy as np"
   ]
  },
  {
   "cell_type": "code",
   "execution_count": 4,
   "metadata": {},
   "outputs": [],
   "source": [
    "df=pd.read_csv(\"labels.csv\",names=[\"img\",\"prob\",\"label\"])"
   ]
  },
  {
   "cell_type": "code",
   "execution_count": 5,
   "metadata": {},
   "outputs": [
    {
     "name": "stdout",
     "output_type": "stream",
     "text": [
      "Found 1800 validated image filenames.\n",
      "Found 100 validated image filenames.\n",
      "Found 724 validated image filenames.\n"
     ]
    }
   ],
   "source": [
    "columns=[\"prob\"]\n",
    "datagen=ImageDataGenerator(rescale=1./255.)\n",
    "test_datagen=ImageDataGenerator(rescale=1./255.)\n",
    "train_generator=datagen.flow_from_dataframe(\n",
    "dataframe=df[:1800],\n",
    "directory=\"./\",\n",
    "x_col=\"img\",\n",
    "y_col=columns,\n",
    "batch_size=32,\n",
    "seed=42,\n",
    "shuffle=True,\n",
    "class_mode=\"raw\")\n",
    "valid_generator=test_datagen.flow_from_dataframe(\n",
    "dataframe=df[1800:1900],\n",
    "directory=\"./\",\n",
    "x_col=\"img\",\n",
    "y_col=columns,\n",
    "batch_size=32,\n",
    "seed=42,\n",
    "shuffle=True,\n",
    "class_mode=\"raw\")\n",
    "test_generator=test_datagen.flow_from_dataframe(\n",
    "dataframe=df[1900:],\n",
    "directory=\"./\",\n",
    "x_col=\"img\",\n",
    "batch_size=1,\n",
    "seed=42,\n",
    "shuffle=False,\n",
    "class_mode=None)"
   ]
  },
  {
   "cell_type": "code",
   "execution_count": 9,
   "metadata": {},
   "outputs": [],
   "source": [
    "model = Sequential()\n",
    "model.add(Conv2D(32, (3, 3), padding='same',\n",
    "                 input_shape=(256,256,3)))\n",
    "model.add(Activation('relu'))\n",
    "model.add(Conv2D(32, (3, 3)))\n",
    "model.add(Activation('relu'))\n",
    "model.add(MaxPooling2D(pool_size=(2, 2)))\n",
    "model.add(Dropout(0.25))\n",
    "model.add(Conv2D(64, (3, 3), padding='same'))\n",
    "model.add(Activation('relu'))\n",
    "model.add(Conv2D(64, (3, 3)))\n",
    "model.add(Activation('relu'))\n",
    "model.add(MaxPooling2D(pool_size=(2, 2)))\n",
    "model.add(Dropout(0.25))\n",
    "model.add(Flatten())\n",
    "model.add(Dense(512))\n",
    "model.add(Activation('relu'))\n",
    "model.add(Dropout(0.5))\n",
    "model.add(Dense(1, activation='sigmoid'))\n",
    "model.compile(optimizers.rmsprop(lr=0.0001, decay=1e-6),loss=\"binary_crossentropy\",metrics=[\"accuracy\"])"
   ]
  },
  {
   "cell_type": "code",
   "execution_count": 10,
   "metadata": {},
   "outputs": [
    {
     "name": "stdout",
     "output_type": "stream",
     "text": [
      "Epoch 1/8\n",
      "56/56 [==============================] - 298s 5s/step - loss: 1.1502 - acc: 0.4626 - val_loss: 0.6770 - val_acc: 0.6765\n",
      "Epoch 2/8\n",
      "56/56 [==============================] - 277s 5s/step - loss: 0.6634 - acc: 0.5189 - val_loss: 0.6370 - val_acc: 0.6354\n",
      "Epoch 3/8\n",
      "56/56 [==============================] - 283s 5s/step - loss: 0.6615 - acc: 0.5089 - val_loss: 0.6802 - val_acc: 0.7500\n",
      "Epoch 4/8\n",
      "56/56 [==============================] - 275s 5s/step - loss: 0.6573 - acc: 0.5161 - val_loss: 0.6785 - val_acc: 0.7059\n",
      "Epoch 5/8\n",
      "56/56 [==============================] - 276s 5s/step - loss: 0.6510 - acc: 0.5151 - val_loss: 0.6617 - val_acc: 0.7206\n",
      "Epoch 6/8\n",
      "56/56 [==============================] - 280s 5s/step - loss: 0.6394 - acc: 0.5340 - val_loss: 0.6543 - val_acc: 0.6979\n",
      "Epoch 7/8\n",
      "56/56 [==============================] - 272s 5s/step - loss: 0.6345 - acc: 0.5563 - val_loss: 0.6241 - val_acc: 0.7647\n",
      "Epoch 8/8\n",
      "56/56 [==============================] - 270s 5s/step - loss: 0.6217 - acc: 0.5948 - val_loss: 0.5743 - val_acc: 0.6765\n"
     ]
    },
    {
     "data": {
      "text/plain": [
       "<keras.callbacks.History at 0x20210b56a58>"
      ]
     },
     "execution_count": 10,
     "metadata": {},
     "output_type": "execute_result"
    }
   ],
   "source": [
    "STEP_SIZE_TRAIN=train_generator.n//train_generator.batch_size\n",
    "STEP_SIZE_VALID=valid_generator.n//valid_generator.batch_size\n",
    "STEP_SIZE_TEST=test_generator.n//test_generator.batch_size\n",
    "model.fit_generator(generator=train_generator,\n",
    "                    steps_per_epoch=STEP_SIZE_TRAIN,\n",
    "                    validation_data=valid_generator,\n",
    "                    validation_steps=STEP_SIZE_VALID,\n",
    "                    epochs=8\n",
    ")"
   ]
  },
  {
   "cell_type": "code",
   "execution_count": 11,
   "metadata": {},
   "outputs": [
    {
     "name": "stdout",
     "output_type": "stream",
     "text": [
      "724/724 [==============================] - 60s 82ms/step\n"
     ]
    }
   ],
   "source": [
    "test_generator.reset()\n",
    "pred=model.predict_generator(test_generator,\n",
    "steps=STEP_SIZE_TEST,\n",
    "verbose=1)"
   ]
  },
  {
   "cell_type": "code",
   "execution_count": 16,
   "metadata": {},
   "outputs": [],
   "source": [
    "pred_bool = (pred >0.5)\n",
    "predictions = pred_bool.astype(float)\n",
    "columns=[\"prob\"]\n",
    "#columns should be the same order of y_col\n",
    "results=pd.DataFrame(predictions, columns=columns)\n",
    "results[\"img\"]=test_generator.filenames\n",
    "ordered_cols=[\"img\"]+columns\n",
    "results=results[ordered_cols]#To get the same column order\n",
    "results.to_csv(\"results.csv\",index=False)"
   ]
  },
  {
   "cell_type": "code",
   "execution_count": null,
   "metadata": {},
   "outputs": [],
   "source": []
  }
 ],
 "metadata": {
  "kernelspec": {
   "display_name": "Python 3",
   "language": "python",
   "name": "python3"
  },
  "language_info": {
   "codemirror_mode": {
    "name": "ipython",
    "version": 3
   },
   "file_extension": ".py",
   "mimetype": "text/x-python",
   "name": "python",
   "nbconvert_exporter": "python",
   "pygments_lexer": "ipython3",
   "version": "3.7.0"
  }
 },
 "nbformat": 4,
 "nbformat_minor": 2
}
