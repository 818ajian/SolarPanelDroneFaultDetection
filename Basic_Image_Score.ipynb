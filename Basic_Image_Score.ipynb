{
 "cells": [
  {
   "cell_type": "code",
   "execution_count": 54,
   "metadata": {},
   "outputs": [
    {
     "name": "stdout",
     "output_type": "stream",
     "text": [
      "L\n"
     ]
    }
   ],
   "source": [
    "from PIL import Image \n",
    "  \n",
    "# creating a image object \n",
    "im = Image.open(r\"test/images/sample1.png\")\n",
    "#im = Image.open(r\"1.jpg\")\n",
    "width, height = im.size\n",
    "print(im.mode)"
   ]
  },
  {
   "cell_type": "code",
   "execution_count": 56,
   "metadata": {},
   "outputs": [],
   "source": [
    "px=im.load()"
   ]
  },
  {
   "cell_type": "code",
   "execution_count": 57,
   "metadata": {},
   "outputs": [],
   "source": [
    "# columns=[]\n",
    "# for i in range(0,width):\n",
    "#     column_total=0\n",
    "#     for j in range(0,height):\n",
    "#         temp=px[i,j]\n",
    "#         print(temp)\n",
    "#         rgb=(temp[0]+temp[1]+temp[2])/3\n",
    "#         column_total+=rgb\n",
    "#     column_average=column_total/height\n",
    "#     columns.append(column_average)\n",
    "# #print(columns)\n",
    "# column_score=sum(columns)/width\n",
    "# print(column_score)"
   ]
  },
  {
   "cell_type": "code",
   "execution_count": 58,
   "metadata": {},
   "outputs": [],
   "source": [
    "# rows=[]\n",
    "# for j in range(0,height):\n",
    "#     row_total=0\n",
    "#     for i in range(0,width):\n",
    "#         temp=px[i,j]\n",
    "#         rgb=(temp[0]+temp[1]+temp[2])/3\n",
    "#         row_total+=rgb\n",
    "#     row_average=row_total/height\n",
    "#     rows.append(row_average)\n",
    "# #print(rows)\n",
    "# row_score=sum(rows)/width\n",
    "# print(row_score)"
   ]
  },
  {
   "cell_type": "code",
   "execution_count": 59,
   "metadata": {},
   "outputs": [
    {
     "name": "stdout",
     "output_type": "stream",
     "text": [
      "32989.816666666666\n"
     ]
    }
   ],
   "source": [
    "columns=[]\n",
    "for i in range(0,width):\n",
    "    column_total=0\n",
    "    for j in range(0,height):\n",
    "        rgb=px[i,j]\n",
    "        column_total+=rgb\n",
    "    #print(column_total)\n",
    "    columns.append(column_total)\n",
    "\n",
    "column_score=sum(columns)/width\n",
    "print(column_score)"
   ]
  },
  {
   "cell_type": "code",
   "execution_count": 60,
   "metadata": {},
   "outputs": [
    {
     "name": "stdout",
     "output_type": "stream",
     "text": [
      "32989.816666666666\n"
     ]
    }
   ],
   "source": [
    "rows=[]\n",
    "for i in range(0,height):\n",
    "    row_total=0\n",
    "    for j in range(0,width):\n",
    "        rgb=px[j,i]\n",
    "        row_total+=rgb\n",
    "    #print(row_total)\n",
    "    rows.append(row_total)\n",
    "row_score=sum(rows)/height\n",
    "print(row_score)"
   ]
  },
  {
   "cell_type": "code",
   "execution_count": null,
   "metadata": {},
   "outputs": [],
   "source": []
  },
  {
   "cell_type": "code",
   "execution_count": null,
   "metadata": {},
   "outputs": [],
   "source": []
  }
 ],
 "metadata": {
  "kernelspec": {
   "display_name": "Python 3",
   "language": "python",
   "name": "python3"
  },
  "language_info": {
   "codemirror_mode": {
    "name": "ipython",
    "version": 3
   },
   "file_extension": ".py",
   "mimetype": "text/x-python",
   "name": "python",
   "nbconvert_exporter": "python",
   "pygments_lexer": "ipython3",
   "version": "3.7.1"
  }
 },
 "nbformat": 4,
 "nbformat_minor": 2
}
